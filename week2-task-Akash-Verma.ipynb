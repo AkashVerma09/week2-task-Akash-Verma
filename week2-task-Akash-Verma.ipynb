{
 "cells": [
  {
   "cell_type": "markdown",
   "id": "9cf18407",
   "metadata": {},
   "source": [
    "# Week 2 Task — Student Performance Data Analysis\n",
    "\n",
    "**Author:** Rahul (please rename files/repo to use your actual name if different)\n",
    "\n",
    "**Objective:** Apply NumPy and Pandas to perform data analysis on a student performance dataset.  \n",
    "This notebook includes dataset creation, loading, exploration, summary statistics, NumPy calculations, searching a student by name, finding top 3 students, and adding a Pass/Fail column.\n",
    "\n",
    "**Files included**\n",
    "- `student_performance_sample.csv` — sample dataset (20 rows)\n",
    "- `week2-task-Rahul.ipynb` — this notebook\n",
    "- `README.md` — instructions and how to run\n",
    "\n",
    "> The notebook is designed to run end-to-end in a standard Jupyter environment (Python 3.8+)."
   ]
  },
  {
   "cell_type": "code",
   "execution_count": null,
   "id": "2f04ccf2",
   "metadata": {},
   "outputs": [],
   "source": [
    "# Imports and load dataset\n",
    "import pandas as pd\n",
    "import numpy as np\n",
    "\n",
    "csv_path = 'student_performance_sample.csv'  # if running locally, ensure this CSV is in the same folder\n",
    "df = pd.read_csv(csv_path)\n",
    "df.head()"
   ]
  },
  {
   "cell_type": "code",
   "execution_count": null,
   "id": "c0fa8204",
   "metadata": {},
   "outputs": [],
   "source": [
    "# Display first 5 rows and basic info\n",
    "print('First 5 rows:')\n",
    "display(df.head())\n",
    "\n",
    "print('\\nDataFrame info:')\n",
    "df.info()\n",
    "\n",
    "print('\\nDataFrame shape:', df.shape)"
   ]
  },
  {
   "cell_type": "code",
   "execution_count": null,
   "id": "13c914ea",
   "metadata": {},
   "outputs": [],
   "source": [
    "# Summary statistics for numeric columns\n",
    "numeric_cols = ['Math','Science','English','StudyHours','Average']\n",
    "summary = pd.DataFrame({\n",
    "    'mean': df[numeric_cols].mean(),\n",
    "    'median': df[numeric_cols].median(),\n",
    "    'max': df[numeric_cols].max(),\n",
    "    'min': df[numeric_cols].min()\n",
    "})\n",
    "summary"
   ]
  },
  {
   "cell_type": "code",
   "execution_count": null,
   "id": "452ad1e2",
   "metadata": {},
   "outputs": [],
   "source": [
    "# NumPy calculations: overall subject-wise average and standard deviation of averages\n",
    "import numpy as np\n",
    "\n",
    "# Flatten subject scores into a single array to compute overall average score across all subject entries\n",
    "all_scores = df[['Math','Science','English']].to_numpy().flatten()\n",
    "overall_average_all_scores = np.mean(all_scores).round(2)\n",
    "std_dev_averages = np.std(df['Average'].to_numpy()).round(2)\n",
    "\n",
    "print(f'Overall average across all subject scores: {overall_average_all_scores}')\n",
    "print(f'Standard deviation of student averages: {std_dev_averages}')"
   ]
  },
  {
   "cell_type": "code",
   "execution_count": null,
   "id": "5c34b500",
   "metadata": {},
   "outputs": [],
   "source": [
    "# Function: search student by name (case-insensitive partial match)\n",
    "def search_student(name_query, df=df):\n",
    "    name_query = name_query.strip().lower()\n",
    "    mask = df['Name'].str.lower().str.contains(name_query)\n",
    "    results = df[mask]\n",
    "    if results.empty:\n",
    "        print(f'No student found matching: \"{name_query}\"')\n",
    "    else:\n",
    "        display(results)\n",
    "\n",
    "# Example usage:\n",
    "print('Example search for \"rahul\":')\n",
    "search_student('rahul')"
   ]
  },
  {
   "cell_type": "code",
   "execution_count": null,
   "id": "85de3764",
   "metadata": {},
   "outputs": [],
   "source": [
    "# Top 3 students based on Average score\n",
    "top3 = df.sort_values('Average', ascending=False).head(3)\n",
    "print('Top 3 students based on Average score:')\n",
    "display(top3[['StudentID','Name','Gender','Math','Science','English','Average']])"
   ]
  },
  {
   "cell_type": "code",
   "execution_count": null,
   "id": "c9856889",
   "metadata": {},
   "outputs": [],
   "source": [
    "# Create Pass/Fail column: Pass if Average >= 40 else Fail\n",
    "threshold = 40\n",
    "df['Result'] = np.where(df['Average'] >= threshold, 'Pass', 'Fail')\n",
    "print(f'Pass/Fail threshold: {threshold}')\n",
    "display(df[['StudentID','Name','Average','Result']].head(10))\n",
    "\n",
    "# Save updated CSV\n",
    "df.to_csv('student_performance_with_results.csv', index=False)\n",
    "print('\\nSaved updated file as student_performance_with_results.csv')"
   ]
  },
  {
   "cell_type": "code",
   "execution_count": null,
   "id": "8d00e8e0",
   "metadata": {},
   "outputs": [],
   "source": [
    "# Simple console menu for interactive use\n",
    "def menu(df):\n",
    "    while True:\n",
    "        print('\\n===== Student Performance Menu =====')\n",
    "        print('1. View dataset summary (first 5 rows + basic stats)')\n",
    "        print('2. Search student by name')\n",
    "        print('3. Show top 3 students by average')\n",
    "        print('4. Show pass/fail counts')\n",
    "        print('5. Exit')\n",
    "        choice = input('Enter option number: ').strip()\n",
    "        if choice == '1':\n",
    "            display(df.head())\n",
    "            print('\\nSummary statistics:')\n",
    "            display(df.describe(include='all'))\n",
    "        elif choice == '2':\n",
    "            q = input('Enter student name to search (partial allowed): ')\n",
    "            search_student(q, df)\n",
    "        elif choice == '3':\n",
    "            display(df.sort_values('Average', ascending=False).head(3))\n",
    "        elif choice == '4':\n",
    "            counts = df['Result'].value_counts()\n",
    "            print('Pass/Fail counts:')\n",
    "            print(counts.to_string())\n",
    "        elif choice == '5':\n",
    "            print('Exiting menu. Bye!')\n",
    "            break\n",
    "        else:\n",
    "            print('Invalid option — please enter 1-5.')\n",
    "\n",
    "# To run the menu, uncomment the next line and execute the cell:\n",
    "# menu(df)"
   ]
  },
  {
   "cell_type": "markdown",
   "id": "33e89e15",
   "metadata": {},
   "source": [
    "## Notes on Deliverables / GitHub\n",
    "\n",
    "- Recommended repository name (public): `week2-task-Rahul`  \n",
    "  Replace `Rahul` with your actual name if needed.\n",
    "\n",
    "- Files to include in the repo:\n",
    "  - `student_performance_sample.csv`\n",
    "  - `student_performance_with_results.csv` (generated by the notebook)\n",
    "  - `week2-task-Rahul.ipynb` (this notebook)\n",
    "  - `README.md` (instructions & sample outputs)\n",
    "\n",
    "- How to run:\n",
    "  1. Download files to a local folder.\n",
    "  2. Launch Jupyter Notebook / JupyterLab in that folder.\n",
    "  3. Open `week2-task-Rahul.ipynb` and run cells top-to-bottom.\n",
    "  4. (Optional) In the interactive cell, uncomment `menu(df)` to use the console menu.\n",
    "\n",
    "- If you want, rename files to contain your real name before pushing to GitHub."
   ]
  }
 ],
 "metadata": {
  "kernelspec": {
   "display_name": "Python 3",
   "name": "python3"
  }
 },
 "nbformat": 4,
 "nbformat_minor": 5
}
